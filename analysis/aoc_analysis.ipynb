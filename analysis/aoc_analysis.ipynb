{
 "cells": [
  {
   "cell_type": "code",
   "execution_count": 1,
   "metadata": {},
   "outputs": [],
   "source": [
    "import pandas as pd\n",
    "import logging\n",
    "logger = logging.getLogger(\"analysis\")\n",
    "logging.basicConfig(format='%(asctime)s %(levelname)s: %(message)s', level=logging.ERROR, datefmt='%H:%M:%S')"
   ]
  },
  {
   "attachments": {},
   "cell_type": "markdown",
   "metadata": {},
   "source": [
    "## Load data + utilities"
   ]
  },
  {
   "cell_type": "code",
   "execution_count": 2,
   "metadata": {},
   "outputs": [],
   "source": [
    "df_apps = pd.read_csv(\"data/java_github_top20.csv\")\n",
    "def map_repo_to_project_name(repo_name) -> str:\n",
    "    match_filter = df_apps[\"clone_url\"].str.endswith(f\"{repo_name}.git\")\n",
    "    matched = df_apps[match_filter]\n",
    "    matched_as_list = list(matched[\"name\"])\n",
    "    if matched.shape[0] == 0:\n",
    "        logger.error(f\"No project matched \\\"{repo_name}\\\"\")\n",
    "        return \"\"\n",
    "    if matched.shape[0] > 1:\n",
    "        logger.warning(\"Matched more than one project\")\n",
    "        return matched_as_list\n",
    "    return matched_as_list[0]\n",
    "def transform_path_to_repo_name(path: str) -> str:\n",
    "    path = path.split(\"/\")[-1] # get the portion that ends the url in .git\n",
    "    path = path.split(\".git\")[0] # removes .git\n",
    "    return path\n",
    "def map_project_name_to_repo(project) -> str:\n",
    "    match_filter = df_apps[\"name\"] == project\n",
    "    matched = df_apps[match_filter]\n",
    "    matched_as_list = list(matched[\"clone_url\"])\n",
    "    if matched.shape[0] == 0:\n",
    "        logger.error(f\"No repo matched \\\"{project}\\\"\")\n",
    "        return \"\"\n",
    "    if matched.shape[0] > 1:\n",
    "        logger.warning(\"Matched more than one repo\")\n",
    "        return [transform_path_to_repo_name(repo) for repo in matched_as_list[\"clone_url\"]]\n",
    "    return transform_path_to_repo_name(matched_as_list[0])"
   ]
  },
  {
   "cell_type": "code",
   "execution_count": 7,
   "metadata": {},
   "outputs": [],
   "source": [
    "BOHR_REPORTS_PATH = \"./bohr_reports\"\n",
    "PROJECT = \"Nextcloud Dev\"\n",
    "\n",
    "df_project_aocs = pd.read_csv(f\"{BOHR_REPORTS_PATH}/{map_project_name_to_repo(PROJECT)}_consolidated.csv\")"
   ]
  },
  {
   "cell_type": "code",
   "execution_count": 9,
   "metadata": {},
   "outputs": [
    {
     "data": {
      "text/plain": [
       "count                                          1110\n",
       "unique                                          166\n",
       "top       com.owncloud.android.files.FileMenuFilter\n",
       "freq                                             81\n",
       "Name: Class, dtype: object"
      ]
     },
     "execution_count": 9,
     "metadata": {},
     "output_type": "execute_result"
    }
   ],
   "source": [
    "df_project_aocs[\"Class\"].describe()"
   ]
  }
 ],
 "metadata": {
  "kernelspec": {
   "display_name": ".venv",
   "language": "python",
   "name": "python3"
  },
  "language_info": {
   "codemirror_mode": {
    "name": "ipython",
    "version": 3
   },
   "file_extension": ".py",
   "mimetype": "text/x-python",
   "name": "python",
   "nbconvert_exporter": "python",
   "pygments_lexer": "ipython3",
   "version": "3.10.12"
  },
  "orig_nbformat": 4
 },
 "nbformat": 4,
 "nbformat_minor": 2
}
