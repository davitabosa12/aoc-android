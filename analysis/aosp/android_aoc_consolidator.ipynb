{
 "cells": [
  {
   "cell_type": "code",
   "execution_count": 1,
   "metadata": {},
   "outputs": [],
   "source": [
    "import pandas as pd\n",
    "import enum\n",
    "import os\n",
    "from typing import List\n",
    "from typing import Optional\n",
    "from sqlalchemy import create_engine, select\n",
    "from sqlalchemy import ForeignKey\n",
    "from sqlalchemy import String, Integer\n",
    "from sqlalchemy.orm import DeclarativeBase\n",
    "from sqlalchemy.orm import Mapped\n",
    "from sqlalchemy.orm import Session\n",
    "from sqlalchemy.orm import mapped_column\n",
    "from sqlalchemy.orm import relationship\n",
    "import javalang\n",
    "import logging"
   ]
  },
  {
   "cell_type": "code",
   "execution_count": 2,
   "metadata": {},
   "outputs": [],
   "source": [
    "logging.basicConfig(\n",
    "    filename=\"HISTORYlistener.log\",\n",
    "    level=logging.DEBUG,\n",
    "    format='%(asctime)s.%(msecs)03d %(levelname)s %(module)s - %(funcName)s: %(message)s',\n",
    "    datefmt='%Y-%m-%d %H:%M:%S',\n",
    ")\n",
    "\n",
    "logger = logging.getLogger()\n",
    "# formatter = logging.Formatter('%(asctime)s - %(name)s - %(levelname)s - %(message)s')\n",
    "# fhandler.setFormatter(formatter)\n",
    "# logger.addHandler(fhandler)\n",
    "logger.setLevel(logging.DEBUG)"
   ]
  },
  {
   "cell_type": "code",
   "execution_count": 3,
   "metadata": {},
   "outputs": [],
   "source": [
    "def get_project_name(csv_report_path: str):\n",
    "    proj_path = csv_report_path.split(\".csv\")[0]\n",
    "    proj_path = proj_path.split(\"bohr_report_aosp\")[-1]\n",
    "    return proj_path"
   ]
  },
  {
   "attachments": {},
   "cell_type": "markdown",
   "metadata": {},
   "source": [
    "## Build Models"
   ]
  },
  {
   "cell_type": "code",
   "execution_count": 4,
   "metadata": {},
   "outputs": [],
   "source": [
    "class Base(DeclarativeBase):\n",
    "    pass\n",
    "\n",
    "\n",
    "class AOSPProject(Base):\n",
    "    __tablename__ = \"aosp_projects\"\n",
    "    id: Mapped[int] = mapped_column(primary_key=True, autoincrement=True)\n",
    "    name: Mapped[str] = mapped_column(String(), nullable=False)\n",
    "    description: Mapped[str] = mapped_column(String(), nullable=True)\n",
    "    package: Mapped[str] = mapped_column(String(), nullable=False)\n",
    "    category: Mapped[str] = mapped_column(String(), nullable=False)\n",
    "    aoc_reports: Mapped[List[\"AOSPAoCReport\"]] = relationship(back_populates=\"project\")\n",
    "\n",
    "\n",
    "class AOSPAoCReport(Base):\n",
    "    __tablename__ = \"aosp_aoc_reports\"\n",
    "    id: Mapped[int] = mapped_column(primary_key=True, autoincrement=True)\n",
    "    project_id: Mapped[int] = mapped_column(ForeignKey(\"aosp_projects.id\"))\n",
    "    project: Mapped[\"AOSPProject\"] = relationship(back_populates=\"aoc_reports\")\n",
    "    line: Mapped[int] = mapped_column(Integer())\n",
    "    snippet: Mapped[str] = mapped_column(String(), nullable=False)\n",
    "    class_: Mapped[str] = mapped_column(String(), nullable=False, name=\"class\")\n",
    "    aoc: Mapped[str] = mapped_column(String(), nullable=False)\n",
    "    path: Mapped[str] = mapped_column(String(), nullable=True)\n",
    "    commit: Mapped[str] = mapped_column(String(), nullable=True)\n",
    "    loc: Mapped[int] = mapped_column(String(), nullable=True)"
   ]
  },
  {
   "attachments": {},
   "cell_type": "markdown",
   "metadata": {},
   "source": [
    "## Get packages from AOC"
   ]
  },
  {
   "cell_type": "code",
   "execution_count": 5,
   "metadata": {},
   "outputs": [],
   "source": [
    "def get_repo_name_from_report_name(csv_report_path: str):\n",
    "    df_report = pd.read_csv(csv_report_path)\n",
    "    return df_report.loc[0][\"project_name\"] # all project names in a report csv file are the same.\n",
    "def get_aocs_repos_list(reports_path: str) -> List[str]:\n",
    "    _, _, files = next(os.walk(reports_path))\n",
    "    files = [f for f in files if f.endswith(\".csv\")]\n",
    "    return files\n",
    "def get_files_with_aoc(report_path: str) -> List[str]:\n",
    "    df_aocs = pd.read_csv(report_path)\n",
    "    return df_aocs[\"filename\"].drop_duplicates().to_list()\n",
    "def get_package_from_java_file(java_file_path: str) -> str:\n",
    "    with open(java_file_path, \"r\") as java_file:\n",
    "        try:\n",
    "            tree = javalang.parse.parse(java_file.read())\n",
    "            package_name = tree.package.name\n",
    "        except:\n",
    "            logger.error(f\"Could not get package name from {java_file_path}\")\n",
    "            package_name = \"\"\n",
    "    return package_name"
   ]
  },
  {
   "attachments": {},
   "cell_type": "markdown",
   "metadata": {},
   "source": [
    "### Create connection engine"
   ]
  },
  {
   "cell_type": "code",
   "execution_count": 6,
   "metadata": {},
   "outputs": [],
   "source": [
    "engine = create_engine(\"sqlite+pysqlite:///aosp_dataset.db\")\n",
    "Base.metadata.create_all(engine)"
   ]
  },
  {
   "attachments": {},
   "cell_type": "markdown",
   "metadata": {},
   "source": [
    "### Persist projects"
   ]
  },
  {
   "cell_type": "code",
   "execution_count": 7,
   "metadata": {},
   "outputs": [],
   "source": [
    "REPORTS_SUMMARY_PATH = \"./reports/summary/\"\n",
    "list_repos_reports = get_aocs_repos_list(REPORTS_SUMMARY_PATH)"
   ]
  },
  {
   "cell_type": "code",
   "execution_count": 8,
   "metadata": {},
   "outputs": [],
   "source": [
    "\n",
    "projects: List[AOSPProject] = []\n",
    "for row in list_repos_reports:\n",
    "    name = get_repo_name_from_report_name(REPORTS_SUMMARY_PATH + row)\n",
    "    description = f\"The {name} repository in the Android Open Source Project (AOSP)\"\n",
    "    projects.append(\n",
    "        AOSPProject(\n",
    "            name=name,\n",
    "            description=description,\n",
    "            package=name, # a repo can have multiple root packages...\n",
    "            category=\"AOSP\", # all AOSP repos will have the same AOSP category.\n",
    "        )\n",
    "    )\n",
    "with Session(engine) as session:\n",
    "    session.add_all(projects)\n",
    "    session.commit()\n"
   ]
  },
  {
   "attachments": {},
   "cell_type": "markdown",
   "metadata": {},
   "source": [
    "### Persist AOCs"
   ]
  },
  {
   "cell_type": "code",
   "execution_count": 9,
   "metadata": {},
   "outputs": [],
   "source": [
    "def query_project(project_name):\n",
    "    with Session(engine) as session:\n",
    "        stmt = select(AOSPProject).where(AOSPProject.name == project_name)\n",
    "        return session.scalar(stmt)"
   ]
  },
  {
   "cell_type": "code",
   "execution_count": 10,
   "metadata": {},
   "outputs": [
    {
     "ename": "KeyboardInterrupt",
     "evalue": "",
     "output_type": "error",
     "traceback": [
      "\u001b[0;31m---------------------------------------------------------------------------\u001b[0m",
      "\u001b[0;31mKeyboardInterrupt\u001b[0m                         Traceback (most recent call last)",
      "\u001b[1;32m/home/davit/Projects/UFC/Qualificacao/analysis/aosp/android_aoc_consolidator.ipynb Cell 15\u001b[0m in \u001b[0;36m5\n\u001b[1;32m      <a href='vscode-notebook-cell:/home/davit/Projects/UFC/Qualificacao/analysis/aosp/android_aoc_consolidator.ipynb#X20sZmlsZQ%3D%3D?line=2'>3</a>\u001b[0m aocs \u001b[39m=\u001b[39m []\n\u001b[1;32m      <a href='vscode-notebook-cell:/home/davit/Projects/UFC/Qualificacao/analysis/aosp/android_aoc_consolidator.ipynb#X20sZmlsZQ%3D%3D?line=3'>4</a>\u001b[0m \u001b[39mfor\u001b[39;00m _, row \u001b[39min\u001b[39;00m df_aocs\u001b[39m.\u001b[39miterrows():\n\u001b[0;32m----> <a href='vscode-notebook-cell:/home/davit/Projects/UFC/Qualificacao/analysis/aosp/android_aoc_consolidator.ipynb#X20sZmlsZQ%3D%3D?line=4'>5</a>\u001b[0m     project \u001b[39m=\u001b[39m query_project(row[\u001b[39m\"\u001b[39;49m\u001b[39mproject_name\u001b[39;49m\u001b[39m\"\u001b[39;49m])\n\u001b[1;32m      <a href='vscode-notebook-cell:/home/davit/Projects/UFC/Qualificacao/analysis/aosp/android_aoc_consolidator.ipynb#X20sZmlsZQ%3D%3D?line=5'>6</a>\u001b[0m     aocs\u001b[39m.\u001b[39mappend(\n\u001b[1;32m      <a href='vscode-notebook-cell:/home/davit/Projects/UFC/Qualificacao/analysis/aosp/android_aoc_consolidator.ipynb#X20sZmlsZQ%3D%3D?line=6'>7</a>\u001b[0m         AOSPAoCReport(\n\u001b[1;32m      <a href='vscode-notebook-cell:/home/davit/Projects/UFC/Qualificacao/analysis/aosp/android_aoc_consolidator.ipynb#X20sZmlsZQ%3D%3D?line=7'>8</a>\u001b[0m             project_id\u001b[39m=\u001b[39mproject\u001b[39m.\u001b[39mid,\n\u001b[0;32m   (...)\u001b[0m\n\u001b[1;32m     <a href='vscode-notebook-cell:/home/davit/Projects/UFC/Qualificacao/analysis/aosp/android_aoc_consolidator.ipynb#X20sZmlsZQ%3D%3D?line=15'>16</a>\u001b[0m         )\n\u001b[1;32m     <a href='vscode-notebook-cell:/home/davit/Projects/UFC/Qualificacao/analysis/aosp/android_aoc_consolidator.ipynb#X20sZmlsZQ%3D%3D?line=16'>17</a>\u001b[0m     )\n\u001b[1;32m     <a href='vscode-notebook-cell:/home/davit/Projects/UFC/Qualificacao/analysis/aosp/android_aoc_consolidator.ipynb#X20sZmlsZQ%3D%3D?line=17'>18</a>\u001b[0m \u001b[39mwith\u001b[39;00m Session(engine) \u001b[39mas\u001b[39;00m session:\n",
      "\u001b[1;32m/home/davit/Projects/UFC/Qualificacao/analysis/aosp/android_aoc_consolidator.ipynb Cell 15\u001b[0m in \u001b[0;36m4\n\u001b[1;32m      <a href='vscode-notebook-cell:/home/davit/Projects/UFC/Qualificacao/analysis/aosp/android_aoc_consolidator.ipynb#X20sZmlsZQ%3D%3D?line=1'>2</a>\u001b[0m \u001b[39mwith\u001b[39;00m Session(engine) \u001b[39mas\u001b[39;00m session:\n\u001b[1;32m      <a href='vscode-notebook-cell:/home/davit/Projects/UFC/Qualificacao/analysis/aosp/android_aoc_consolidator.ipynb#X20sZmlsZQ%3D%3D?line=2'>3</a>\u001b[0m     stmt \u001b[39m=\u001b[39m select(AOSPProject)\u001b[39m.\u001b[39mwhere(AOSPProject\u001b[39m.\u001b[39mname \u001b[39m==\u001b[39m project_name)\n\u001b[0;32m----> <a href='vscode-notebook-cell:/home/davit/Projects/UFC/Qualificacao/analysis/aosp/android_aoc_consolidator.ipynb#X20sZmlsZQ%3D%3D?line=3'>4</a>\u001b[0m     \u001b[39mreturn\u001b[39;00m session\u001b[39m.\u001b[39;49mscalar(stmt)\n",
      "File \u001b[0;32m~/Projects/UFC/Qualificacao/analysis/.venv/lib/python3.10/site-packages/sqlalchemy/orm/session.py:2312\u001b[0m, in \u001b[0;36mSession.scalar\u001b[0;34m(self, statement, params, execution_options, bind_arguments, **kw)\u001b[0m\n\u001b[1;32m   2295\u001b[0m \u001b[39mdef\u001b[39;00m \u001b[39mscalar\u001b[39m(\n\u001b[1;32m   2296\u001b[0m     \u001b[39mself\u001b[39m,\n\u001b[1;32m   2297\u001b[0m     statement: Executable,\n\u001b[0;32m   (...)\u001b[0m\n\u001b[1;32m   2302\u001b[0m     \u001b[39m*\u001b[39m\u001b[39m*\u001b[39mkw: Any,\n\u001b[1;32m   2303\u001b[0m ) \u001b[39m-\u001b[39m\u001b[39m>\u001b[39m Any:\n\u001b[1;32m   2304\u001b[0m \u001b[39m    \u001b[39m\u001b[39m\"\"\"Execute a statement and return a scalar result.\u001b[39;00m\n\u001b[1;32m   2305\u001b[0m \n\u001b[1;32m   2306\u001b[0m \u001b[39m    Usage and parameters are the same as that of\u001b[39;00m\n\u001b[0;32m   (...)\u001b[0m\n\u001b[1;32m   2309\u001b[0m \n\u001b[1;32m   2310\u001b[0m \u001b[39m    \"\"\"\u001b[39;00m\n\u001b[0;32m-> 2312\u001b[0m     \u001b[39mreturn\u001b[39;00m \u001b[39mself\u001b[39;49m\u001b[39m.\u001b[39;49m_execute_internal(\n\u001b[1;32m   2313\u001b[0m         statement,\n\u001b[1;32m   2314\u001b[0m         params,\n\u001b[1;32m   2315\u001b[0m         execution_options\u001b[39m=\u001b[39;49mexecution_options,\n\u001b[1;32m   2316\u001b[0m         bind_arguments\u001b[39m=\u001b[39;49mbind_arguments,\n\u001b[1;32m   2317\u001b[0m         _scalar_result\u001b[39m=\u001b[39;49m\u001b[39mTrue\u001b[39;49;00m,\n\u001b[1;32m   2318\u001b[0m         \u001b[39m*\u001b[39;49m\u001b[39m*\u001b[39;49mkw,\n\u001b[1;32m   2319\u001b[0m     )\n",
      "File \u001b[0;32m~/Projects/UFC/Qualificacao/analysis/.venv/lib/python3.10/site-packages/sqlalchemy/orm/session.py:2158\u001b[0m, in \u001b[0;36mSession._execute_internal\u001b[0;34m(self, statement, params, execution_options, bind_arguments, _parent_execute_state, _add_event, _scalar_result)\u001b[0m\n\u001b[1;32m   2153\u001b[0m     result \u001b[39m=\u001b[39m conn\u001b[39m.\u001b[39mexecute(\n\u001b[1;32m   2154\u001b[0m         statement, params \u001b[39mor\u001b[39;00m {}, execution_options\u001b[39m=\u001b[39mexecution_options\n\u001b[1;32m   2155\u001b[0m     )\n\u001b[1;32m   2157\u001b[0m \u001b[39mif\u001b[39;00m _scalar_result:\n\u001b[0;32m-> 2158\u001b[0m     \u001b[39mreturn\u001b[39;00m result\u001b[39m.\u001b[39;49mscalar()\n\u001b[1;32m   2159\u001b[0m \u001b[39melse\u001b[39;00m:\n\u001b[1;32m   2160\u001b[0m     \u001b[39mreturn\u001b[39;00m result\n",
      "File \u001b[0;32m~/Projects/UFC/Qualificacao/analysis/.venv/lib/python3.10/site-packages/sqlalchemy/engine/result.py:1561\u001b[0m, in \u001b[0;36mResult.scalar\u001b[0;34m(self)\u001b[0m\n\u001b[1;32m   1547\u001b[0m \u001b[39mdef\u001b[39;00m \u001b[39mscalar\u001b[39m(\u001b[39mself\u001b[39m) \u001b[39m-\u001b[39m\u001b[39m>\u001b[39m Any:\n\u001b[1;32m   1548\u001b[0m \u001b[39m    \u001b[39m\u001b[39m\"\"\"Fetch the first column of the first row, and close the result set.\u001b[39;00m\n\u001b[1;32m   1549\u001b[0m \n\u001b[1;32m   1550\u001b[0m \u001b[39m    Returns ``None`` if there are no rows to fetch.\u001b[39;00m\n\u001b[0;32m   (...)\u001b[0m\n\u001b[1;32m   1559\u001b[0m \n\u001b[1;32m   1560\u001b[0m \u001b[39m    \"\"\"\u001b[39;00m\n\u001b[0;32m-> 1561\u001b[0m     \u001b[39mreturn\u001b[39;00m \u001b[39mself\u001b[39;49m\u001b[39m.\u001b[39;49m_only_one_row(\n\u001b[1;32m   1562\u001b[0m         raise_for_second_row\u001b[39m=\u001b[39;49m\u001b[39mFalse\u001b[39;49;00m, raise_for_none\u001b[39m=\u001b[39;49m\u001b[39mFalse\u001b[39;49;00m, scalar\u001b[39m=\u001b[39;49m\u001b[39mTrue\u001b[39;49;00m\n\u001b[1;32m   1563\u001b[0m     )\n",
      "File \u001b[0;32m~/Projects/UFC/Qualificacao/analysis/.venv/lib/python3.10/site-packages/sqlalchemy/engine/result.py:757\u001b[0m, in \u001b[0;36mResultInternal._only_one_row\u001b[0;34m(self, raise_for_second_row, raise_for_none, scalar)\u001b[0m\n\u001b[1;32m    749\u001b[0m \u001b[39mdef\u001b[39;00m \u001b[39m_only_one_row\u001b[39m(\n\u001b[1;32m    750\u001b[0m     \u001b[39mself\u001b[39m,\n\u001b[1;32m    751\u001b[0m     raise_for_second_row: \u001b[39mbool\u001b[39m,\n\u001b[1;32m    752\u001b[0m     raise_for_none: \u001b[39mbool\u001b[39m,\n\u001b[1;32m    753\u001b[0m     scalar: \u001b[39mbool\u001b[39m,\n\u001b[1;32m    754\u001b[0m ) \u001b[39m-\u001b[39m\u001b[39m>\u001b[39m Optional[_R]:\n\u001b[1;32m    755\u001b[0m     onerow \u001b[39m=\u001b[39m \u001b[39mself\u001b[39m\u001b[39m.\u001b[39m_fetchone_impl\n\u001b[0;32m--> 757\u001b[0m     row: Optional[_InterimRowType[Any]] \u001b[39m=\u001b[39m onerow(hard_close\u001b[39m=\u001b[39;49m\u001b[39mTrue\u001b[39;49;00m)\n\u001b[1;32m    758\u001b[0m     \u001b[39mif\u001b[39;00m row \u001b[39mis\u001b[39;00m \u001b[39mNone\u001b[39;00m:\n\u001b[1;32m    759\u001b[0m         \u001b[39mif\u001b[39;00m raise_for_none:\n",
      "File \u001b[0;32m~/Projects/UFC/Qualificacao/analysis/.venv/lib/python3.10/site-packages/sqlalchemy/engine/result.py:2282\u001b[0m, in \u001b[0;36mIteratorResult._fetchone_impl\u001b[0;34m(self, hard_close)\u001b[0m\n\u001b[1;32m   2279\u001b[0m \u001b[39mif\u001b[39;00m \u001b[39mself\u001b[39m\u001b[39m.\u001b[39m_hard_closed:\n\u001b[1;32m   2280\u001b[0m     \u001b[39mself\u001b[39m\u001b[39m.\u001b[39m_raise_hard_closed()\n\u001b[0;32m-> 2282\u001b[0m row \u001b[39m=\u001b[39m \u001b[39mnext\u001b[39;49m(\u001b[39mself\u001b[39;49m\u001b[39m.\u001b[39;49miterator, _NO_ROW)\n\u001b[1;32m   2283\u001b[0m \u001b[39mif\u001b[39;00m row \u001b[39mis\u001b[39;00m _NO_ROW:\n\u001b[1;32m   2284\u001b[0m     \u001b[39mself\u001b[39m\u001b[39m.\u001b[39m_soft_close(hard\u001b[39m=\u001b[39mhard_close)\n",
      "File \u001b[0;32m~/Projects/UFC/Qualificacao/analysis/.venv/lib/python3.10/site-packages/sqlalchemy/orm/loading.py:195\u001b[0m, in \u001b[0;36minstances.<locals>.chunks\u001b[0;34m(size)\u001b[0m\n\u001b[1;32m    193\u001b[0m \u001b[39mif\u001b[39;00m single_entity:\n\u001b[1;32m    194\u001b[0m     proc \u001b[39m=\u001b[39m process[\u001b[39m0\u001b[39m]\n\u001b[0;32m--> 195\u001b[0m     rows \u001b[39m=\u001b[39m [proc(row) \u001b[39mfor\u001b[39;00m row \u001b[39min\u001b[39;00m fetch]\n\u001b[1;32m    196\u001b[0m \u001b[39melse\u001b[39;00m:\n\u001b[1;32m    197\u001b[0m     rows \u001b[39m=\u001b[39m [\n\u001b[1;32m    198\u001b[0m         \u001b[39mtuple\u001b[39m([proc(row) \u001b[39mfor\u001b[39;00m proc \u001b[39min\u001b[39;00m process]) \u001b[39mfor\u001b[39;00m row \u001b[39min\u001b[39;00m fetch\n\u001b[1;32m    199\u001b[0m     ]\n",
      "File \u001b[0;32m~/Projects/UFC/Qualificacao/analysis/.venv/lib/python3.10/site-packages/sqlalchemy/orm/loading.py:195\u001b[0m, in \u001b[0;36m<listcomp>\u001b[0;34m(.0)\u001b[0m\n\u001b[1;32m    193\u001b[0m \u001b[39mif\u001b[39;00m single_entity:\n\u001b[1;32m    194\u001b[0m     proc \u001b[39m=\u001b[39m process[\u001b[39m0\u001b[39m]\n\u001b[0;32m--> 195\u001b[0m     rows \u001b[39m=\u001b[39m [proc(row) \u001b[39mfor\u001b[39;00m row \u001b[39min\u001b[39;00m fetch]\n\u001b[1;32m    196\u001b[0m \u001b[39melse\u001b[39;00m:\n\u001b[1;32m    197\u001b[0m     rows \u001b[39m=\u001b[39m [\n\u001b[1;32m    198\u001b[0m         \u001b[39mtuple\u001b[39m([proc(row) \u001b[39mfor\u001b[39;00m proc \u001b[39min\u001b[39;00m process]) \u001b[39mfor\u001b[39;00m row \u001b[39min\u001b[39;00m fetch\n\u001b[1;32m    199\u001b[0m     ]\n",
      "File \u001b[0;32m~/Projects/UFC/Qualificacao/analysis/.venv/lib/python3.10/site-packages/sqlalchemy/orm/loading.py:1069\u001b[0m, in \u001b[0;36m_instance_processor.<locals>._instance\u001b[0;34m(row)\u001b[0m\n\u001b[1;32m   1066\u001b[0m currentload \u001b[39m=\u001b[39m \u001b[39mTrue\u001b[39;00m\n\u001b[1;32m   1067\u001b[0m loaded_instance \u001b[39m=\u001b[39m \u001b[39mTrue\u001b[39;00m\n\u001b[0;32m-> 1069\u001b[0m instance \u001b[39m=\u001b[39m mapper\u001b[39m.\u001b[39;49mclass_manager\u001b[39m.\u001b[39;49mnew_instance()\n\u001b[1;32m   1071\u001b[0m dict_ \u001b[39m=\u001b[39m instance_dict(instance)\n\u001b[1;32m   1072\u001b[0m state \u001b[39m=\u001b[39m instance_state(instance)\n",
      "File \u001b[0;32m~/Projects/UFC/Qualificacao/analysis/.venv/lib/python3.10/site-packages/sqlalchemy/orm/instrumentation.py:509\u001b[0m, in \u001b[0;36mClassManager.new_instance\u001b[0;34m(self, state)\u001b[0m\n\u001b[1;32m    504\u001b[0m \u001b[39mdef\u001b[39;00m \u001b[39mnew_instance\u001b[39m(\u001b[39mself\u001b[39m, state: Optional[InstanceState[_O]] \u001b[39m=\u001b[39m \u001b[39mNone\u001b[39;00m) \u001b[39m-\u001b[39m\u001b[39m>\u001b[39m _O:\n\u001b[1;32m    505\u001b[0m     \u001b[39m# here, we would prefer _O to be bound to \"object\"\u001b[39;00m\n\u001b[1;32m    506\u001b[0m     \u001b[39m# so that mypy sees that __new__ is present.   currently\u001b[39;00m\n\u001b[1;32m    507\u001b[0m     \u001b[39m# it's bound to Any as there were other problems not having\u001b[39;00m\n\u001b[1;32m    508\u001b[0m     \u001b[39m# it that way but these can be revisited\u001b[39;00m\n\u001b[0;32m--> 509\u001b[0m     instance \u001b[39m=\u001b[39m \u001b[39mself\u001b[39;49m\u001b[39m.\u001b[39;49mclass_\u001b[39m.\u001b[39;49m\u001b[39m__new__\u001b[39;49m(\u001b[39mself\u001b[39;49m\u001b[39m.\u001b[39;49mclass_)  \u001b[39m# type: ignore\u001b[39;00m\n\u001b[1;32m    510\u001b[0m     \u001b[39mif\u001b[39;00m state \u001b[39mis\u001b[39;00m \u001b[39mNone\u001b[39;00m:\n\u001b[1;32m    511\u001b[0m         state \u001b[39m=\u001b[39m \u001b[39mself\u001b[39m\u001b[39m.\u001b[39m_state_constructor(instance, \u001b[39mself\u001b[39m)\n",
      "\u001b[0;31mKeyboardInterrupt\u001b[0m: "
     ]
    }
   ],
   "source": [
    "for repo in list_repos_reports:\n",
    "    df_aocs = pd.read_csv(REPORTS_SUMMARY_PATH + repo)\n",
    "    aocs = []\n",
    "    for _, row in df_aocs.iterrows():\n",
    "        project = query_project(row[\"project_name\"])\n",
    "        aocs.append(\n",
    "            AOSPAoCReport(\n",
    "                project_id=project.id,\n",
    "                line=row[\"Line\"],\n",
    "                snippet=row[\"Snippet\"],\n",
    "                class_=row[\"Class\"],\n",
    "                aoc=row[\"Atom\"],\n",
    "                path=row[\"filename\"],\n",
    "                commit=row[\"commit\"],\n",
    "                loc=row[\"loc\"]\n",
    "            )\n",
    "        )\n",
    "    with Session(engine) as session:\n",
    "        session.add_all(aocs)\n",
    "        session.commit()\n"
   ]
  }
 ],
 "metadata": {
  "kernelspec": {
   "display_name": ".venv",
   "language": "python",
   "name": "python3"
  },
  "language_info": {
   "codemirror_mode": {
    "name": "ipython",
    "version": 3
   },
   "file_extension": ".py",
   "mimetype": "text/x-python",
   "name": "python",
   "nbconvert_exporter": "python",
   "pygments_lexer": "ipython3",
   "version": "3.10.12"
  },
  "orig_nbformat": 4
 },
 "nbformat": 4,
 "nbformat_minor": 2
}
