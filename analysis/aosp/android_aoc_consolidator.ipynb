{
 "cells": [
  {
   "cell_type": "code",
   "execution_count": 1,
   "metadata": {},
   "outputs": [],
   "source": [
    "import pandas as pd\n",
    "import enum\n",
    "import os\n",
    "from typing import List\n",
    "from typing import Optional\n",
    "from sqlalchemy import create_engine, select\n",
    "from sqlalchemy import ForeignKey\n",
    "from sqlalchemy import String, Integer\n",
    "from sqlalchemy.orm import DeclarativeBase\n",
    "from sqlalchemy.orm import Mapped\n",
    "from sqlalchemy.orm import Session\n",
    "from sqlalchemy.orm import mapped_column\n",
    "from sqlalchemy.orm import relationship\n",
    "import javalang\n",
    "import logging"
   ]
  },
  {
   "cell_type": "code",
   "execution_count": 2,
   "metadata": {},
   "outputs": [],
   "source": [
    "logging.basicConfig(\n",
    "    filename=\"HISTORYlistener.log\",\n",
    "    level=logging.DEBUG,\n",
    "    format='%(asctime)s.%(msecs)03d %(levelname)s %(module)s - %(funcName)s: %(message)s',\n",
    "    datefmt='%Y-%m-%d %H:%M:%S',\n",
    ")\n",
    "\n",
    "logger = logging.getLogger()\n",
    "# formatter = logging.Formatter('%(asctime)s - %(name)s - %(levelname)s - %(message)s')\n",
    "# fhandler.setFormatter(formatter)\n",
    "# logger.addHandler(fhandler)\n",
    "logger.setLevel(logging.DEBUG)"
   ]
  },
  {
   "cell_type": "code",
   "execution_count": 3,
   "metadata": {},
   "outputs": [],
   "source": [
    "def get_project_name(csv_report_path: str):\n",
    "    proj_path = csv_report_path.split(\".csv\")[0]\n",
    "    proj_path = proj_path.split(\"bohr_report_aosp\")[-1]\n",
    "    return proj_path"
   ]
  },
  {
   "attachments": {},
   "cell_type": "markdown",
   "metadata": {},
   "source": [
    "## Build Models"
   ]
  },
  {
   "cell_type": "code",
   "execution_count": 4,
   "metadata": {},
   "outputs": [],
   "source": [
    "class Base(DeclarativeBase):\n",
    "    pass\n",
    "\n",
    "\n",
    "class AOSPProject(Base):\n",
    "    __tablename__ = \"aosp_projects\"\n",
    "    id: Mapped[int] = mapped_column(primary_key=True, autoincrement=True)\n",
    "    name: Mapped[str] = mapped_column(String(), nullable=False)\n",
    "    description: Mapped[str] = mapped_column(String(), nullable=True)\n",
    "    package: Mapped[str] = mapped_column(String(), nullable=False)\n",
    "    category: Mapped[str] = mapped_column(String(), nullable=False)\n",
    "    aoc_reports: Mapped[List[\"AOSPAoCReport\"]] = relationship(back_populates=\"project\")\n",
    "\n",
    "\n",
    "class AOSPAoCReport(Base):\n",
    "    __tablename__ = \"aosp_aoc_reports\"\n",
    "    id: Mapped[int] = mapped_column(primary_key=True, autoincrement=True)\n",
    "    project_id: Mapped[int] = mapped_column(ForeignKey(\"aosp_projects.id\"))\n",
    "    project: Mapped[\"AOSPProject\"] = relationship(back_populates=\"aoc_reports\")\n",
    "    line: Mapped[int] = mapped_column(Integer())\n",
    "    snippet: Mapped[str] = mapped_column(String(), nullable=False)\n",
    "    class_: Mapped[str] = mapped_column(String(), nullable=False, name=\"class\")\n",
    "    aoc: Mapped[str] = mapped_column(String(), nullable=False)\n",
    "    path: Mapped[str] = mapped_column(String(), nullable=True)\n",
    "    commit: Mapped[str] = mapped_column(String(), nullable=True)\n",
    "    loc: Mapped[int] = mapped_column(String(), nullable=True)"
   ]
  },
  {
   "attachments": {},
   "cell_type": "markdown",
   "metadata": {},
   "source": [
    "## Get packages from AOC"
   ]
  },
  {
   "cell_type": "code",
   "execution_count": 5,
   "metadata": {},
   "outputs": [],
   "source": [
    "def get_repo_name_from_report_name(csv_report_path: str):\n",
    "    df_report = pd.read_csv(csv_report_path)\n",
    "    return df_report.loc[0][\"project_name\"] # all project names in a report csv file are the same.\n",
    "def get_aocs_repos_list(reports_path: str) -> List[str]:\n",
    "    _, _, files = next(os.walk(reports_path))\n",
    "    files = [f for f in files if f.endswith(\".csv\")]\n",
    "    return files\n",
    "def get_files_with_aoc(report_path: str) -> List[str]:\n",
    "    df_aocs = pd.read_csv(report_path)\n",
    "    return df_aocs[\"filename\"].drop_duplicates().to_list()\n",
    "def get_package_from_java_file(java_file_path: str) -> str:\n",
    "    with open(java_file_path, \"r\") as java_file:\n",
    "        try:\n",
    "            tree = javalang.parse.parse(java_file.read())\n",
    "            package_name = tree.package.name\n",
    "        except:\n",
    "            logger.error(f\"Could not get package name from {java_file_path}\")\n",
    "            package_name = \"\"\n",
    "    return package_name"
   ]
  },
  {
   "attachments": {},
   "cell_type": "markdown",
   "metadata": {},
   "source": [
    "### Create connection engine"
   ]
  },
  {
   "cell_type": "code",
   "execution_count": 6,
   "metadata": {},
   "outputs": [],
   "source": [
    "engine = create_engine(\"sqlite+pysqlite:///aosp_dataset.db\")\n",
    "Base.metadata.create_all(engine)"
   ]
  },
  {
   "attachments": {},
   "cell_type": "markdown",
   "metadata": {},
   "source": [
    "### Persist projects"
   ]
  },
  {
   "cell_type": "code",
   "execution_count": 7,
   "metadata": {},
   "outputs": [],
   "source": [
    "REPORTS_SUMMARY_PATH = \"./reports/summary/\"\n",
    "list_repos_reports = get_aocs_repos_list(REPORTS_SUMMARY_PATH)"
   ]
  },
  {
   "cell_type": "code",
   "execution_count": 9,
   "metadata": {},
   "outputs": [],
   "source": [
    "\n",
    "projects: List[AOSPProject] = []\n",
    "for row in list_repos_reports:\n",
    "    name = get_repo_name_from_report_name(REPORTS_SUMMARY_PATH + row)\n",
    "    description = f\"The {name} repository in the Android Open Source Project (AOSP)\"\n",
    "    projects.append(\n",
    "        AOSPProject(\n",
    "            name=name,\n",
    "            description=description,\n",
    "            package=name, # a repo can have multiple root packages...\n",
    "            category=\"AOSP\", # all AOSP repos will have the same AOSP category.\n",
    "        )\n",
    "    )\n",
    "with Session(engine) as session:\n",
    "    session.add_all(projects)\n",
    "    session.commit()\n"
   ]
  },
  {
   "attachments": {},
   "cell_type": "markdown",
   "metadata": {},
   "source": [
    "### Persist AOCs"
   ]
  },
  {
   "cell_type": "code",
   "execution_count": null,
   "metadata": {},
   "outputs": [],
   "source": [
    "def query_project(project_name):\n",
    "    with Session(engine) as session:\n",
    "        stmt = select(AOSPProject).where(AOSPProject.name.like(project_name))\n",
    "        return session.scalar(stmt)"
   ]
  },
  {
   "cell_type": "code",
   "execution_count": null,
   "metadata": {},
   "outputs": [],
   "source": [
    "for repo in list_repos_reports:\n",
    "    df_aocs = pd.read_csv(REPORTS_SUMMARY_PATH + repo)\n",
    "    aocs = []\n",
    "    for _, row in df_aocs.iterrows():\n",
    "        project = query_project(row[\"project_name\"])\n",
    "        aocs.append(\n",
    "            AOSPAoCReport(\n",
    "                project_id=project.id,\n",
    "                line=row[\"Line\"],\n",
    "                snippet=row[\"Snippet\"],\n",
    "                class_=row[\"Class\"],\n",
    "                aoc=row[\"Atom\"],\n",
    "                path=row[\"filename\"],\n",
    "                commit=row[\"commit\"],\n",
    "                loc=row[\"loc\"]\n",
    "            )\n",
    "        )\n",
    "    with Session(engine) as session:\n",
    "        session.add_all(aocs)\n",
    "        session.commit()\n"
   ]
  }
 ],
 "metadata": {
  "kernelspec": {
   "display_name": ".venv",
   "language": "python",
   "name": "python3"
  },
  "language_info": {
   "codemirror_mode": {
    "name": "ipython",
    "version": 3
   },
   "file_extension": ".py",
   "mimetype": "text/x-python",
   "name": "python",
   "nbconvert_exporter": "python",
   "pygments_lexer": "ipython3",
   "version": "3.10.12"
  },
  "orig_nbformat": 4
 },
 "nbformat": 4,
 "nbformat_minor": 2
}
