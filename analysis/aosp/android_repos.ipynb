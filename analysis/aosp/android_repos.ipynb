{
 "cells": [
  {
   "cell_type": "code",
   "execution_count": 1,
   "metadata": {},
   "outputs": [],
   "source": [
    "import logging\n",
    "import os\n",
    "from typing import List\n",
    "from concurrent.futures import ThreadPoolExecutor, as_completed\n",
    "import pandas as pd\n",
    "import subprocess\n",
    "from subprocess import PIPE, STDOUT\n",
    "from datetime import datetime\n",
    "import git\n",
    "import functools\n",
    "from threading import Lock\n",
    "AOSP_SYNC_PATH = \"/mnt/4846A54B46A53A98/AOSP/\"\n",
    "AOSP_ROOT_MATCHER = \"<AOSP_ROOT>/\"\n",
    "\n"
   ]
  },
  {
   "cell_type": "code",
   "execution_count": 2,
   "metadata": {},
   "outputs": [],
   "source": [
    "logging.basicConfig(\n",
    "    filename=\"HISTORYlistener.log\",\n",
    "    level=logging.DEBUG,\n",
    "    format='%(asctime)s.%(msecs)03d %(levelname)s %(module)s - %(funcName)s: %(message)s',\n",
    "    datefmt='%Y-%m-%d %H:%M:%S',\n",
    ")\n",
    "\n",
    "logger = logging.getLogger()\n",
    "fhandler = logging.FileHandler(filename='run_notebook.log', mode='a')\n",
    "formatter = logging.Formatter('%(asctime)s - %(name)s - %(levelname)s - %(message)s')\n",
    "fhandler.setFormatter(formatter)\n",
    "logger.addHandler(fhandler)\n",
    "logger.setLevel(logging.DEBUG)"
   ]
  },
  {
   "cell_type": "code",
   "execution_count": 3,
   "metadata": {},
   "outputs": [],
   "source": [
    "# git_repos = []\n",
    "# for dirpath, dirnames, filenames in os.walk(AOSP_SYNC_PATH):\n",
    "#     if \".git\" in dirnames:\n",
    "#         git_repos.append(dirpath)"
   ]
  },
  {
   "cell_type": "code",
   "execution_count": 8,
   "metadata": {},
   "outputs": [],
   "source": [
    "# with open(\"git_dirs_NORM.txt\", \"w\") as txt_file:\n",
    "#     for path in git_repos:\n",
    "#         masked_path = path.replace(AOSP_SYNC_PATH, \"<AOSP_ROOT>/\")\n",
    "#         txt_file.write(masked_path + \"\\n\")"
   ]
  },
  {
   "cell_type": "code",
   "execution_count": 3,
   "metadata": {},
   "outputs": [],
   "source": [
    "def get_project_name(path: str) -> str:\n",
    "    return path.replace(AOSP_ROOT_MATCHER, \"\")\n",
    "\n",
    "def get_java_files_from_path(path: str) -> List[str]:\n",
    "    buffer = []\n",
    "    logger.info(f\"Checking {path}...\")\n",
    "    for dirpath, dirnames, filenames in os.walk(path):\n",
    "        java_files_in_dirpath = [f\"{dirpath}/{filename}\" for filename in filenames if filename.endswith(\".java\")]\n",
    "        if java_files_in_dirpath:\n",
    "            buffer.extend(java_files_in_dirpath)\n",
    "    return buffer\n",
    "\n",
    "def save_to_file(path: str, content: List[str], mode=\"a\"):\n",
    "    with open(path, mode) as txt_file:\n",
    "        logger.info(f\"Saving to {path}\")\n",
    "        txt_file.writelines([line + \"\\n\" for line in content])\n",
    "\n",
    "\n",
    "\n"
   ]
  },
  {
   "cell_type": "code",
   "execution_count": 6,
   "metadata": {},
   "outputs": [],
   "source": [
    "def save_report(real_path):\n",
    "    java_file_list = get_java_files_from_path(real_path)\n",
    "    if java_file_list:\n",
    "        save_to_file(\"aosp_java_files.txt\", java_file_list)\n",
    "    else:\n",
    "        logger.warning(f\"{real_path} does not have java files.\")\n",
    "GIT_DIRS = []\n",
    "with open(\"git_dirs_NORM.txt\", \"r\") as txt_file:\n",
    "    for path in txt_file.readlines():\n",
    "        real_path = path.strip().replace(AOSP_ROOT_MATCHER, AOSP_SYNC_PATH)\n",
    "        GIT_DIRS.append(real_path)\n",
    "def get_project_from_path(java_file_path: str) -> str:\n",
    "    for project_path in GIT_DIRS:\n",
    "        if java_file_path.startswith(project_path):\n",
    "            return project_path.replace(AOSP_SYNC_PATH, \"\")\n",
    "    raise Exception(f\"{java_file_path = } does not have a project!\")\n"
   ]
  },
  {
   "cell_type": "code",
   "execution_count": null,
   "metadata": {},
   "outputs": [],
   "source": [
    "# with ThreadPoolExecutor(max_workers=6) as executor:\n",
    "#     futures = []\n",
    "#     for dir in GIT_DIRS:\n",
    "#         print(f\"Submit {dir}\")\n",
    "#         fut = executor.submit(save_report, dir)\n",
    "#         fut.add_done_callback(lambda x: print(f\"{dir} is done\"))\n",
    "#         futures.append(fut)\n",
    "#     print(\"Running...\")\n",
    "#     while not all([f.done() for f in futures]):\n",
    "#         pass\n",
    "#     print(\"All done.\")\n"
   ]
  },
  {
   "attachments": {},
   "cell_type": "markdown",
   "metadata": {},
   "source": [
    "## Categorization"
   ]
  },
  {
   "cell_type": "code",
   "execution_count": 14,
   "metadata": {},
   "outputs": [],
   "source": [
    "# df_java_files = pd.DataFrame()\n",
    "# buffer = []\n",
    "# with open(\"aosp_java_files.txt\", \"r\") as txt_file:\n",
    "#     for line in txt_file.readlines():\n",
    "#         line_stripped = line.strip()\n",
    "#         buffer.append({\n",
    "#             \"aosp_project\": get_project_from_path(line_stripped),\n",
    "#             \"java_file\": line_stripped\n",
    "#         })\n",
    "# df_java_files = pd.DataFrame.from_records(buffer)\n",
    "# df_java_files.to_csv(\"categorized_aosp_java_files.csv\")\n"
   ]
  },
  {
   "cell_type": "code",
   "execution_count": 15,
   "metadata": {},
   "outputs": [],
   "source": [
    "# df_java_files.to_csv(\"categorized_aosp_java_files.csv\", index=False)"
   ]
  },
  {
   "cell_type": "code",
   "execution_count": 5,
   "metadata": {},
   "outputs": [],
   "source": [
    "# load\n",
    "df_java_files = pd.read_csv(\"categorized_aosp_java_files.csv\")"
   ]
  },
  {
   "attachments": {},
   "cell_type": "markdown",
   "metadata": {},
   "source": [
    "## Run BOHR"
   ]
  },
  {
   "cell_type": "code",
   "execution_count": 9,
   "metadata": {},
   "outputs": [],
   "source": [
    "CHECKPOINTS_PATH = \"checkpoints.txt\"\n",
    "CHECK_CSV_PATH_MUTEX = Lock()\n",
    "\n",
    "def timestamp():\n",
    "    return int(datetime.now().timestamp() * 1000 // 1)\n",
    "\n",
    "\n",
    "def load_checkpoints():\n",
    "    if os.path.exists(CHECKPOINTS_PATH):\n",
    "        with open(CHECKPOINTS_PATH, \"r\") as checkpoint_file:\n",
    "            lines = checkpoint_file.readlines()\n",
    "            lines = [line.strip() for line in lines]\n",
    "            return lines\n",
    "    else:\n",
    "        return []\n",
    "\n",
    "\n",
    "def save_checkpoint(path):\n",
    "    with open(CHECKPOINTS_PATH, \"a\") as checkpoint_file:\n",
    "        checkpoint_file.write(path + \"\\n\")\n",
    "    logger.info(f\"saved {path}\")\n",
    "def log_subprocess_output(pipe):\n",
    "    for line in iter(pipe.readline, b''): # b'\\n'-separated lines\n",
    "        logger.info('got line from subprocess: %r', line)\n",
    "\n",
    "def run_bohr(java_file_path, file_name):\n",
    "    ms = timestamp()\n",
    "    bohr_report_name = f\"{file_name}_{ms}\"\n",
    "    process = subprocess.Popen([\"java\", \"-jar\", \"../bohr.jar\", java_file_path, bohr_report_name], stdout=PIPE, stderr=STDOUT)\n",
    "    with process.stdout:\n",
    "        log_subprocess_output(process.stdout)\n",
    "    if bohr_report_name.endswith(\".csv\"):\n",
    "        return bohr_report_name\n",
    "    return bohr_report_name + \".csv\"\n",
    "\n",
    "\n",
    "def gen_bohr_report_path(java_file_path):\n",
    "    projpath = get_project_from_path(java_file_path).replace(\"/\", \"-\")\n",
    "    return f\"./reports/summary/bohr_report_aosp_{projpath}.csv\"\n",
    "\n",
    "\n",
    "def get_loc(java_file_path):\n",
    "    with open(java_file_path, \"r\") as java_file:\n",
    "        loc = len(java_file.readlines()) + 1\n",
    "    return loc\n",
    "\n",
    "\n",
    "@functools.cache\n",
    "def get_commit(project_path):\n",
    "    repo = git.Repo(project_path)\n",
    "    return repo.head.commit.hexsha\n",
    "\n",
    "\n",
    "def execute_bohr_report_generation(java_file_path):\n",
    "    filename = run_bohr(java_file_path, \"./reports/bohr_report\")\n",
    "    df_bohr_report = pd.read_csv(filename)\n",
    "    os.remove(filename)\n",
    "    if df_bohr_report.empty:\n",
    "        logger.warning(f\"No AoCs found in {java_file_path}\")\n",
    "        return java_file_path\n",
    "    project_name = get_project_from_path(java_file_path)\n",
    "    commit = get_commit(f\"{AOSP_SYNC_PATH}{project_name}\")\n",
    "    loc = get_loc(java_file_path)\n",
    "    df_bohr_report = df_bohr_report.assign(\n",
    "        filename=java_file_path, project_name=project_name, commit=commit, loc=loc\n",
    "    )\n",
    "    bohr_report_path = gen_bohr_report_path(java_file_path)\n",
    "    with CHECK_CSV_PATH_MUTEX:\n",
    "        if os.path.exists(bohr_report_path):\n",
    "            # append new data\n",
    "            df_bohr_report.to_csv(bohr_report_path, index=False, header=False, mode='a')\n",
    "        else:\n",
    "            # create headers and file\n",
    "            df_bohr_report.to_csv(bohr_report_path, index=False)\n",
    "    return java_file_path"
   ]
  },
  {
   "cell_type": "code",
   "execution_count": 8,
   "metadata": {},
   "outputs": [],
   "source": [
    "java_file_path = df_java_files.loc[0][\"java_file\"]\n",
    "filtered = df_java_files.loc[df_java_files[\"aosp_project\"] == \"/mnt/4846A54B46A53A98/AOSP/developers/build\"]\n",
    "futures = []\n",
    "checkpoints = load_checkpoints()\n",
    "with ThreadPoolExecutor(max_workers=6) as executor:\n",
    "    try:\n",
    "        for idx, row in filtered.iterrows():\n",
    "            java_file = row[\"java_file\"]\n",
    "            if java_file in checkpoints:\n",
    "                logger.info(f\"Java file {java_file} already processed, skipping...\")\n",
    "                continue\n",
    "            f = executor.submit(execute_bohr_report_generation, row[\"java_file\"])\n",
    "            futures.append(f)\n",
    "        for f in as_completed(futures):\n",
    "            path = f\n",
    "            save_checkpoint(java_file_path)\n",
    "            logger.info(f\"Completed BOHR on {path}.\")\n",
    "    except KeyboardInterrupt:\n",
    "        logger.error(\"Keyboard error received, stopping...\")\n",
    "        print(\"Keyboard error received, stopping...\")\n",
    "        executor.shutdown(wait=True, cancel_futures=True)"
   ]
  }
 ],
 "metadata": {
  "kernelspec": {
   "display_name": ".venv",
   "language": "python",
   "name": "python3"
  },
  "language_info": {
   "codemirror_mode": {
    "name": "ipython",
    "version": 3
   },
   "file_extension": ".py",
   "mimetype": "text/x-python",
   "name": "python",
   "nbconvert_exporter": "python",
   "pygments_lexer": "ipython3",
   "version": "3.10.12"
  },
  "orig_nbformat": 4
 },
 "nbformat": 4,
 "nbformat_minor": 2
}
