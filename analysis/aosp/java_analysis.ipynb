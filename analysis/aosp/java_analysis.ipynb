{
 "cells": [
  {
   "cell_type": "code",
   "execution_count": 25,
   "metadata": {},
   "outputs": [],
   "source": [
    "import javalang\n",
    "from javalang.tree import ClassDeclaration, Declaration\n",
    "from typing import List, Union"
   ]
  },
  {
   "cell_type": "code",
   "execution_count": 26,
   "metadata": {},
   "outputs": [],
   "source": [
    "JAVA_FILE_PATH = \"../InnerClass.java\"\n",
    "with open(JAVA_FILE_PATH, \"r\") as java_file:\n",
    "    tree = javalang.parse.parse(java_file.read())"
   ]
  },
  {
   "cell_type": "code",
   "execution_count": 27,
   "metadata": {},
   "outputs": [],
   "source": [
    "class JavaClass:\n",
    "    def __init__(\n",
    "        self,\n",
    "        name: str,\n",
    "        position: int,\n",
    "        end_position: int,\n",
    "        parent_class: \"JavaClass\" = None,\n",
    "        inner_classes: List[\"JavaClass\"] = None,\n",
    "    ) -> None:\n",
    "        self.name = name\n",
    "        self.parent_class = parent_class\n",
    "        self.position = position\n",
    "        self._end_position = end_position\n",
    "        self.inner_classes = []\n",
    "        if inner_classes and isinstance(inner_classes, list):\n",
    "            for c in inner_classes:\n",
    "                c.parent_class = self\n",
    "            self.inner_classes = inner_classes\n",
    "    def __str__(self) -> str:\n",
    "        return f\"{self.name} @ {self.position} <> {self.end_position}\"\n",
    "    @property\n",
    "    def end_position(self):\n",
    "        if self._end_position == -1:\n",
    "            return self.parent_class.end_position\n",
    "        return self._end_position"
   ]
  },
  {
   "cell_type": "code",
   "execution_count": 28,
   "metadata": {},
   "outputs": [],
   "source": [
    "def get_loc(java_file_path):\n",
    "    with open(java_file_path, \"r\") as java_file:\n",
    "        # loc = len(java_file.readlines()) + 1\n",
    "        buffer = java_file.read()\n",
    "    return len(buffer.split('\\n'))\n",
    "def get_position(declaration: Union[Declaration, List[Declaration]]):\n",
    "    if isinstance(declaration, list):\n",
    "        return get_position(declaration[0])\n",
    "    return declaration.position\n",
    "def parse_class_declaration(class_declaration: ClassDeclaration, next_position=-1) -> JavaClass:\n",
    "    classes: List[JavaClass] = []\n",
    "    if class_declaration.body:\n",
    "        classes.extend(parse_class_children(class_declaration.body, parent_next_position=next_position))\n",
    "    return JavaClass(class_declaration.name, class_declaration.position, next_position, inner_classes=classes)\n",
    "def parse_class_children(children: List[Declaration], parent_next_position) -> List[JavaClass]:\n",
    "    buffer = []\n",
    "    for i, declaration in enumerate(children):\n",
    "        if isinstance(declaration, ClassDeclaration):\n",
    "            try:\n",
    "                next_declaration = children[i+1]\n",
    "                next_position = get_position(next_declaration)\n",
    "                buffer.append(parse_class_declaration(declaration, next_position))\n",
    "            except IndexError:\n",
    "                buffer.append(parse_class_declaration(declaration, parent_next_position))\n",
    "        else:\n",
    "            continue\n",
    "    return buffer\n",
    "def find_classes(tree):\n",
    "    classes = []\n",
    "    for i, declaration in enumerate(tree.types):\n",
    "        try:\n",
    "            next_statement_position = get_position(tree.types[i + 1])\n",
    "        except IndexError:\n",
    "            # reached end of file, last position is LOC\n",
    "            next_statement_position = get_loc(JAVA_FILE_PATH)\n",
    "        if isinstance(declaration, ClassDeclaration):\n",
    "            classes.append(parse_class_declaration(declaration, next_position=next_statement_position))\n",
    "    return classes\n"
   ]
  },
  {
   "cell_type": "code",
   "execution_count": 29,
   "metadata": {},
   "outputs": [
    {
     "data": {
      "text/plain": [
       "23"
      ]
     },
     "execution_count": 29,
     "metadata": {},
     "output_type": "execute_result"
    }
   ],
   "source": [
    "get_loc(JAVA_FILE_PATH)"
   ]
  },
  {
   "cell_type": "code",
   "execution_count": 30,
   "metadata": {},
   "outputs": [],
   "source": [
    "def walk_classes(java_class: JavaClass):\n",
    "    if isinstance(java_class, list):\n",
    "        for class_ in java_class:\n",
    "            walk_classes(class_)\n",
    "        return\n",
    "    print(java_class)\n",
    "    if java_class.inner_classes:\n",
    "        for class_ in java_class.inner_classes:\n",
    "            walk_classes(class_)"
   ]
  },
  {
   "cell_type": "code",
   "execution_count": 34,
   "metadata": {},
   "outputs": [],
   "source": [
    "classes = find_classes(tree)"
   ]
  },
  {
   "cell_type": "code",
   "execution_count": 32,
   "metadata": {},
   "outputs": [
    {
     "name": "stdout",
     "output_type": "stream",
     "text": [
      "OuterClass @ Position(line=3, column=8) <> Position(line=21, column=9)\n",
      "InnerClass @ Position(line=10, column=5) <> Position(line=21, column=9)\n",
      "InnerMostClass @ Position(line=13, column=9) <> Position(line=17, column=16)\n",
      "AnotherInnerClass @ Position(line=17, column=16) <> Position(line=21, column=9)\n",
      "AnotherClass @ Position(line=21, column=9) <> 23\n"
     ]
    }
   ],
   "source": [
    "walk_classes(classes)"
   ]
  },
  {
   "cell_type": "code",
   "execution_count": null,
   "metadata": {},
   "outputs": [],
   "source": []
  }
 ],
 "metadata": {
  "kernelspec": {
   "display_name": ".venv",
   "language": "python",
   "name": "python3"
  },
  "language_info": {
   "codemirror_mode": {
    "name": "ipython",
    "version": 3
   },
   "file_extension": ".py",
   "mimetype": "text/x-python",
   "name": "python",
   "nbconvert_exporter": "python",
   "pygments_lexer": "ipython3",
   "version": "3.10.12"
  },
  "orig_nbformat": 4
 },
 "nbformat": 4,
 "nbformat_minor": 2
}
