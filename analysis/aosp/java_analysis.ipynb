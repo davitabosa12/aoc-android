{
 "cells": [
  {
   "cell_type": "code",
   "execution_count": 11,
   "metadata": {},
   "outputs": [],
   "source": [
    "import javalang\n",
    "from javalang.tree import ClassDeclaration, Declaration\n",
    "from typing import List"
   ]
  },
  {
   "cell_type": "code",
   "execution_count": 12,
   "metadata": {},
   "outputs": [],
   "source": [
    "JAVA_FILE_PATH = \"../InnerClass.java\"\n",
    "with open(JAVA_FILE_PATH, \"r\") as java_file:\n",
    "    tree = javalang.parse.parse(java_file.read())"
   ]
  },
  {
   "cell_type": "code",
   "execution_count": 13,
   "metadata": {},
   "outputs": [],
   "source": [
    "class JavaClass:\n",
    "    def __init__(\n",
    "        self,\n",
    "        name: str,\n",
    "        position: int,\n",
    "        parent_class: \"JavaClass\" = None,\n",
    "        inner_classes: List[\"JavaClass\"] = None,\n",
    "    ) -> None:\n",
    "        self.name = name\n",
    "        self.parent_class = parent_class\n",
    "        self.position = position\n",
    "        self.inner_classes = []\n",
    "        if inner_classes and isinstance(inner_classes, list):\n",
    "            for c in inner_classes:\n",
    "                c.parent_class = self\n",
    "            self.inner_classes = inner_classes\n",
    "    def __str__(self) -> str:\n",
    "        return f\"{self.name} @ {self.position}\"\n"
   ]
  },
  {
   "cell_type": "code",
   "execution_count": 14,
   "metadata": {},
   "outputs": [],
   "source": [
    "def parse_class_declaration(class_declaration: ClassDeclaration) -> JavaClass:\n",
    "    classes: List[JavaClass] = []\n",
    "    if class_declaration.children:\n",
    "        classes.extend(parse_children(class_declaration.children))\n",
    "    return JavaClass(class_declaration.name, class_declaration.position, inner_classes=classes)\n",
    "def parse_children(children: List[Declaration]) -> List[JavaClass]:\n",
    "    buffer = []\n",
    "    for declaration in children:\n",
    "        if isinstance(declaration, list):\n",
    "            buffer.extend(parse_children(declaration))\n",
    "        elif isinstance(declaration, ClassDeclaration):\n",
    "            buffer.append(parse_class_declaration(declaration))\n",
    "        else:\n",
    "            continue\n",
    "    return buffer\n",
    "def find_classes(tree):\n",
    "    classes = parse_children(tree.children)\n",
    "    return classes\n"
   ]
  },
  {
   "cell_type": "code",
   "execution_count": 18,
   "metadata": {},
   "outputs": [],
   "source": [
    "def walk_classes(java_class: JavaClass):\n",
    "    if isinstance(java_class, list):\n",
    "        for class_ in java_class:\n",
    "            walk_classes(class_)\n",
    "        return\n",
    "    print(java_class)\n",
    "    if java_class.inner_classes:\n",
    "        for class_ in java_class.inner_classes:\n",
    "            walk_classes(class_)"
   ]
  },
  {
   "cell_type": "code",
   "execution_count": 16,
   "metadata": {},
   "outputs": [],
   "source": [
    "classes = find_classes(tree)"
   ]
  },
  {
   "cell_type": "code",
   "execution_count": 19,
   "metadata": {},
   "outputs": [
    {
     "name": "stdout",
     "output_type": "stream",
     "text": [
      "OuterClass @ Position(line=3, column=8)\n",
      "InnerClass @ Position(line=8, column=5)\n",
      "InnerMostClass @ Position(line=11, column=9)\n",
      "AnotherClass @ Position(line=17, column=8)\n"
     ]
    }
   ],
   "source": [
    "walk_classes(classes)"
   ]
  }
 ],
 "metadata": {
  "kernelspec": {
   "display_name": ".venv",
   "language": "python",
   "name": "python3"
  },
  "language_info": {
   "codemirror_mode": {
    "name": "ipython",
    "version": 3
   },
   "file_extension": ".py",
   "mimetype": "text/x-python",
   "name": "python",
   "nbconvert_exporter": "python",
   "pygments_lexer": "ipython3",
   "version": "3.10.12"
  },
  "orig_nbformat": 4
 },
 "nbformat": 4,
 "nbformat_minor": 2
}
