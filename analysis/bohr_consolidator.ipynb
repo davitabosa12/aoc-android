{
 "cells": [
  {
   "cell_type": "code",
   "execution_count": 16,
   "metadata": {},
   "outputs": [
    {
     "name": "stderr",
     "output_type": "stream",
     "text": [
      "15:16:18 DEBUG:sETL logging!\n"
     ]
    }
   ],
   "source": [
    "import logging\n",
    "import os\n",
    "import pandas as pd\n",
    "from enum import Enum\n",
    "from pandas.errors import EmptyDataError\n",
    "logger = logging.getLogger(\"ETL\")\n",
    "logging.basicConfig(format='%(asctime)s %(levelname)s: %(message)s', level=logging.DEBUG, datefmt='%H:%M:%S')\n",
    "logger.debug(\"ETL logging!\")"
   ]
  },
  {
   "cell_type": "code",
   "execution_count": 2,
   "metadata": {},
   "outputs": [],
   "source": [
    "BOHR_REPORTS_PATH = \"./bohr_reports_from_jupyter/\"\n",
    "BOHR_REPORTS_FOLDERS = next(os.walk(BOHR_REPORTS_PATH))[1]"
   ]
  },
  {
   "cell_type": "code",
   "execution_count": 3,
   "metadata": {},
   "outputs": [],
   "source": [
    "def load_and_merge(path: str, file_list):\n",
    "    folder_name = path.split(\"/\")[-1]\n",
    "    df_aggregate = pd.DataFrame()\n",
    "    for file in file_list:\n",
    "        try:\n",
    "            file_to_read = f\"{path}/{file}\"\n",
    "            df_load = pd.read_csv(file_to_read)\n",
    "        except EmptyDataError:\n",
    "            logger.error(f\"Empty data error while reading {file_to_read}\")\n",
    "            continue\n",
    "        if df_aggregate.empty:\n",
    "            df_aggregate = df_load\n",
    "        else:\n",
    "            df_aggregate = pd.concat([df_aggregate, df_load], ignore_index=True)\n",
    "    # filter for duplicates\n",
    "    DUP_COLUMNS = [\"Class\", \"Atom\", \"Line\"]\n",
    "    df_filtered = df_aggregate.drop_duplicates()\n",
    "    filtered = df_aggregate.shape[0] - df_filtered.shape[0]\n",
    "    logger.info(f\"{folder_name}: Removed {filtered} lines.\")\n",
    "    return df_filtered\n"
   ]
  },
  {
   "cell_type": "code",
   "execution_count": 61,
   "metadata": {},
   "outputs": [
    {
     "name": "stdout",
     "output_type": "stream",
     "text": [
      "./bohr_reports_from_jupyter/AmazeFileManager\n"
     ]
    },
    {
     "name": "stderr",
     "output_type": "stream",
     "text": [
      "15:42:35 INFO:sAmazeFileManager: Removed 781 lines.\n"
     ]
    },
    {
     "name": "stdout",
     "output_type": "stream",
     "text": [
      "./bohr_reports_from_jupyter/OsmAnd\n"
     ]
    },
    {
     "name": "stderr",
     "output_type": "stream",
     "text": [
      "15:42:41 INFO:sOsmAnd: Removed 12149 lines.\n"
     ]
    },
    {
     "name": "stdout",
     "output_type": "stream",
     "text": [
      "./bohr_reports_from_jupyter/pixel-dungeon\n"
     ]
    },
    {
     "name": "stderr",
     "output_type": "stream",
     "text": [
      "15:42:42 INFO:spixel-dungeon: Removed 1172 lines.\n"
     ]
    },
    {
     "name": "stdout",
     "output_type": "stream",
     "text": [
      "./bohr_reports_from_jupyter/AntennaPod\n"
     ]
    },
    {
     "name": "stderr",
     "output_type": "stream",
     "text": [
      "15:42:43 INFO:sAntennaPod: Removed 1074 lines.\n"
     ]
    },
    {
     "name": "stdout",
     "output_type": "stream",
     "text": [
      "./bohr_reports_from_jupyter/Infinity-For-Reddit\n"
     ]
    },
    {
     "name": "stderr",
     "output_type": "stream",
     "text": [
      "15:42:44 INFO:sInfinity-For-Reddit: Removed 1799 lines.\n"
     ]
    },
    {
     "name": "stdout",
     "output_type": "stream",
     "text": [
      "./bohr_reports_from_jupyter/NewPipe\n"
     ]
    },
    {
     "name": "stderr",
     "output_type": "stream",
     "text": [
      "15:42:44 INFO:sNewPipe: Removed 1122 lines.\n",
      "15:42:44 ERROR:sEmpty data error while reading ./bohr_reports_from_jupyter/.ipynb_checkpoints/.ipynb_checkpoints_consolidated.csv\n",
      "15:42:44 INFO:s.ipynb_checkpoints: Removed 0 lines.\n"
     ]
    },
    {
     "name": "stdout",
     "output_type": "stream",
     "text": [
      "./bohr_reports_from_jupyter/.ipynb_checkpoints\n",
      "./bohr_reports_from_jupyter/android\n"
     ]
    },
    {
     "name": "stderr",
     "output_type": "stream",
     "text": [
      "15:42:45 INFO:sandroid: Removed 1114 lines.\n"
     ]
    },
    {
     "name": "stdout",
     "output_type": "stream",
     "text": [
      "./bohr_reports_from_jupyter/VirtualXposed\n"
     ]
    },
    {
     "name": "stderr",
     "output_type": "stream",
     "text": [
      "15:42:46 INFO:sVirtualXposed: Removed 633 lines.\n"
     ]
    },
    {
     "name": "stdout",
     "output_type": "stream",
     "text": [
      "./bohr_reports_from_jupyter/PocketHub\n"
     ]
    },
    {
     "name": "stderr",
     "output_type": "stream",
     "text": [
      "15:42:47 INFO:sPocketHub: Removed 123 lines.\n"
     ]
    },
    {
     "name": "stdout",
     "output_type": "stream",
     "text": [
      "./bohr_reports_from_jupyter/Aegis\n"
     ]
    },
    {
     "name": "stderr",
     "output_type": "stream",
     "text": [
      "15:42:47 INFO:sAegis: Removed 290 lines.\n"
     ]
    },
    {
     "name": "stdout",
     "output_type": "stream",
     "text": [
      "./bohr_reports_from_jupyter/NekoX\n"
     ]
    },
    {
     "name": "stderr",
     "output_type": "stream",
     "text": [
      "15:42:56 INFO:sNekoX: Removed 48955 lines.\n"
     ]
    },
    {
     "name": "stdout",
     "output_type": "stream",
     "text": [
      "./bohr_reports_from_jupyter/Mindustry\n"
     ]
    },
    {
     "name": "stderr",
     "output_type": "stream",
     "text": [
      "15:42:58 INFO:sMindustry: Removed 5945 lines.\n"
     ]
    },
    {
     "name": "stdout",
     "output_type": "stream",
     "text": [
      "./bohr_reports_from_jupyter/OpenHub\n"
     ]
    },
    {
     "name": "stderr",
     "output_type": "stream",
     "text": [
      "15:42:58 INFO:sOpenHub: Removed 552 lines.\n"
     ]
    },
    {
     "name": "stdout",
     "output_type": "stream",
     "text": [
      "./bohr_reports_from_jupyter/bitcoin-wallet\n"
     ]
    },
    {
     "name": "stderr",
     "output_type": "stream",
     "text": [
      "15:42:59 INFO:sbitcoin-wallet: Removed 397 lines.\n"
     ]
    },
    {
     "name": "stdout",
     "output_type": "stream",
     "text": [
      "./bohr_reports_from_jupyter/Launcher3\n"
     ]
    },
    {
     "name": "stderr",
     "output_type": "stream",
     "text": [
      "15:42:59 INFO:sLauncher3: Removed 1675 lines.\n"
     ]
    },
    {
     "name": "stdout",
     "output_type": "stream",
     "text": [
      "./bohr_reports_from_jupyter/termux-app\n"
     ]
    },
    {
     "name": "stderr",
     "output_type": "stream",
     "text": [
      "15:43:00 INFO:stermux-app: Removed 692 lines.\n",
      "15:43:00 INFO:sXposedInstaller: Removed 92 lines.\n",
      "15:43:00 INFO:sMifareClassicTool: Removed 192 lines.\n"
     ]
    },
    {
     "name": "stdout",
     "output_type": "stream",
     "text": [
      "./bohr_reports_from_jupyter/XposedInstaller\n",
      "./bohr_reports_from_jupyter/MifareClassicTool\n",
      "./bohr_reports_from_jupyter/zxing\n"
     ]
    },
    {
     "name": "stderr",
     "output_type": "stream",
     "text": [
      "15:43:01 INFO:szxing: Removed 1495 lines.\n"
     ]
    },
    {
     "name": "stdout",
     "output_type": "stream",
     "text": [
      "./bohr_reports_from_jupyter/AppManager\n"
     ]
    },
    {
     "name": "stderr",
     "output_type": "stream",
     "text": [
      "15:43:02 INFO:sAppManager: Removed 1927 lines.\n"
     ]
    }
   ],
   "source": [
    "for folder in BOHR_REPORTS_FOLDERS:\n",
    "    print(f\"{BOHR_REPORTS_PATH}{folder}\")\n",
    "    path = f\"{BOHR_REPORTS_PATH}{folder}\"\n",
    "    reports = next(os.walk(path))[2] # files only\n",
    "    reports = [report for report in reports if report.endswith(\".csv\")] # only csvs\n",
    "    df = load_and_merge(path, reports)\n",
    "    df.to_csv(f\"{path}/../{folder}_consolidated.csv\", index=False)"
   ]
  },
  {
   "cell_type": "code",
   "execution_count": 38,
   "metadata": {},
   "outputs": [],
   "source": [
    "class AoC(Enum):\n",
    "    IOP = \"Infix Operator Precedence\"\n",
    "    POSTINCDEC = \"Post Increment Decrement\"\n",
    "    PREINCDEC = \"Pre Increment Decrement\"\n",
    "    CO = \"Conditional Operator\"\n",
    "    AL = \"Arithmetic as Logic\"\n",
    "    LCF = \"Logic as Control Flow\"\n",
    "    RV = \"Repurposed Variables\"\n",
    "    CLE = \"Change of Literal Encoding\"\n",
    "    OCB = \"Omitted Curly Braces\"\n",
    "    TC = \"Type Conversion\"\n",
    "\n",
    "\n",
    "class AoCItem:\n",
    "    def __init__(\n",
    "        self, path: str, class_: str, atom: str, snippet: str, line: int\n",
    "    ) -> None:\n",
    "        self.path = path\n",
    "        self.class_ = class_\n",
    "        self.atom = AoC(atom)\n",
    "        self.snippet = snippet\n",
    "        self.line = line\n",
    "\n",
    "    def __eq__(self, value: object) -> bool:\n",
    "        if not isinstance(value, AoCItem):\n",
    "            return False\n",
    "        rhs: AoCItem = value\n",
    "        same_class = self.class_ == rhs.class_\n",
    "        same_line = self.line == rhs.line\n",
    "        same_atom = self.atom == rhs.atom\n",
    "\n",
    "        return same_class and same_line and same_atom\n",
    "\n",
    "    def __str__(self) -> str:\n",
    "        return f\"AoCItem.{self.atom}, {self.class_} @ {self.line}\"\n",
    "\n",
    "    def __repr__(self) -> str:\n",
    "        return f\"AoCItem({self.path}, {self.class_}, {self.atom}, {self.snippet}, {self.line})\"\n"
   ]
  }
 ],
 "metadata": {
  "kernelspec": {
   "display_name": ".venv",
   "language": "python",
   "name": "python3"
  },
  "language_info": {
   "codemirror_mode": {
    "name": "ipython",
    "version": 3
   },
   "file_extension": ".py",
   "mimetype": "text/x-python",
   "name": "python",
   "nbconvert_exporter": "python",
   "pygments_lexer": "ipython3",
   "version": "3.10.12"
  },
  "orig_nbformat": 4
 },
 "nbformat": 4,
 "nbformat_minor": 2
}
