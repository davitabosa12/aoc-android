{
 "cells": [
  {
   "cell_type": "code",
   "execution_count": 6,
   "metadata": {},
   "outputs": [],
   "source": [
    "import pandas as pd\n",
    "import enum\n",
    "import os\n",
    "from typing import List\n",
    "from typing import Optional\n",
    "from sqlalchemy import create_engine, select\n",
    "from sqlalchemy import ForeignKey\n",
    "from sqlalchemy import String, Integer\n",
    "from sqlalchemy.orm import DeclarativeBase\n",
    "from sqlalchemy.orm import Mapped\n",
    "from sqlalchemy.orm import Session\n",
    "from sqlalchemy.orm import mapped_column\n",
    "from sqlalchemy.orm import relationship\n",
    "import logging\n",
    "\n",
    "logger = logging.getLogger(\"analysis\")\n",
    "logging.basicConfig(\n",
    "    format=\"%(asctime)s %(levelname)s: %(message)s\",\n",
    "    level=logging.ERROR,\n",
    "    datefmt=\"%H:%M:%S\",\n",
    ")\n"
   ]
  },
  {
   "cell_type": "code",
   "execution_count": 5,
   "metadata": {},
   "outputs": [],
   "source": [
    "df_apps = pd.read_csv(\"data/java_github_top20.csv\")\n",
    "\n",
    "\n",
    "def map_repo_to_project_name(repo_name) -> str:\n",
    "    match_filter = df_apps[\"clone_url\"].str.endswith(f\"{repo_name}.git\")\n",
    "    matched = df_apps[match_filter]\n",
    "    matched_as_list = list(matched[\"name\"])\n",
    "    if matched.shape[0] == 0:\n",
    "        logger.error(f'No project matched \"{repo_name}\"')\n",
    "        return \"\"\n",
    "    if matched.shape[0] > 1:\n",
    "        logger.warning(\"Matched more than one project\")\n",
    "        return matched_as_list\n",
    "    return matched_as_list[0]\n",
    "\n",
    "\n",
    "def transform_path_to_repo_name(path: str) -> str:\n",
    "    path = path.split(\"/\")[-1]  # get the portion that ends the url in .git\n",
    "    path = path.split(\".git\")[0]  # removes .git\n",
    "    return path\n",
    "\n",
    "\n",
    "def map_project_name_to_repo(project) -> str:\n",
    "    match_filter = df_apps[\"name\"] == project\n",
    "    matched = df_apps[match_filter]\n",
    "    matched_as_list = list(matched[\"clone_url\"])\n",
    "    if matched.shape[0] == 0:\n",
    "        logger.error(f'No repo matched \"{project}\"')\n",
    "        return \"\"\n",
    "    if matched.shape[0] > 1:\n",
    "        logger.warning(\"Matched more than one repo\")\n",
    "        return [\n",
    "            transform_path_to_repo_name(repo) for repo in matched_as_list[\"clone_url\"]\n",
    "        ]\n",
    "    return transform_path_to_repo_name(matched_as_list[0])\n"
   ]
  },
  {
   "attachments": {},
   "cell_type": "markdown",
   "metadata": {},
   "source": [
    "## Create Models"
   ]
  },
  {
   "cell_type": "code",
   "execution_count": 10,
   "metadata": {},
   "outputs": [],
   "source": [
    "class Base(DeclarativeBase):\n",
    "    pass\n",
    "\n",
    "\n",
    "class Project(Base):\n",
    "    __tablename__ = \"projects\"\n",
    "    id: Mapped[int] = mapped_column(primary_key=True, autoincrement=True)\n",
    "    name: Mapped[str] = mapped_column(String(), nullable=False)\n",
    "    description: Mapped[str] = mapped_column(String(), nullable=True)\n",
    "    package: Mapped[str] = mapped_column(String(), nullable=False)\n",
    "    category: Mapped[str] = mapped_column(String(), nullable=False)\n",
    "    aoc_reports: Mapped[List[\"AoCReport\"]] = relationship(back_populates=\"project\")\n",
    "\n",
    "\n",
    "class AoCReport(Base):\n",
    "    __tablename__ = \"aoc_reports\"\n",
    "    id: Mapped[int] = mapped_column(primary_key=True, autoincrement=True)\n",
    "    project_id: Mapped[int] = mapped_column(ForeignKey(\"projects.id\"))\n",
    "    project: Mapped[\"Project\"] = relationship(back_populates=\"aoc_reports\")\n",
    "    line: Mapped[int] = mapped_column(Integer())\n",
    "    snippet: Mapped[str] = mapped_column(String(), nullable=False)\n",
    "    class_: Mapped[str] = mapped_column(String(), nullable=False, name=\"class\")\n",
    "    aoc: Mapped[str] = mapped_column(String(), nullable=False)\n",
    "    path: Mapped[str] = mapped_column(String(), nullable=True)\n"
   ]
  },
  {
   "attachments": {},
   "cell_type": "markdown",
   "metadata": {},
   "source": [
    "### Create connection engine"
   ]
  },
  {
   "cell_type": "code",
   "execution_count": 11,
   "metadata": {},
   "outputs": [],
   "source": [
    "engine = create_engine(\"sqlite+pysqlite:///aocs_dataset.db\")\n",
    "Base.metadata.create_all(engine)\n"
   ]
  },
  {
   "attachments": {},
   "cell_type": "markdown",
   "metadata": {},
   "source": [
    "### Persist projects"
   ]
  },
  {
   "cell_type": "code",
   "execution_count": 11,
   "metadata": {},
   "outputs": [],
   "source": [
    "df_projects = pd.read_csv(\"data/java_github_top20.csv\")\n",
    "projects: List[Project] = []\n",
    "for _, row in df_projects.iterrows():\n",
    "    projects.append(\n",
    "        Project(\n",
    "            name=row[\"name\"],\n",
    "            description=row[\"summary\"],\n",
    "            package=row[\"package\"],\n",
    "            category=row[\"category\"],\n",
    "        )\n",
    "    )\n",
    "with Session(engine) as session:\n",
    "    session.add_all(projects)\n",
    "    session.commit()\n"
   ]
  },
  {
   "attachments": {},
   "cell_type": "markdown",
   "metadata": {},
   "source": [
    "### Persist AOCs"
   ]
  },
  {
   "cell_type": "code",
   "execution_count": 12,
   "metadata": {},
   "outputs": [],
   "source": [
    "def query_project(project_name):\n",
    "    with Session(engine) as session:\n",
    "        stmt = select(Project).where(Project.name.like(project_name))\n",
    "        return session.scalar(stmt)\n"
   ]
  },
  {
   "cell_type": "code",
   "execution_count": 18,
   "metadata": {},
   "outputs": [],
   "source": [
    "BOHR_REPORTS_PATH = \"./bohr_reports\"\n",
    "_, _, files = next(os.walk(BOHR_REPORTS_PATH))\n",
    "consolidated_csvs = [file for file in files if file.endswith(\"_consolidated.csv\")]\n",
    "for csv_file_name in consolidated_csvs:\n",
    "    repo_name = csv_file_name.split(\"_consolidated.csv\")[0]\n",
    "    project_name = map_repo_to_project_name(repo_name)\n",
    "    df_aocs = pd.read_csv(f\"{BOHR_REPORTS_PATH}/{csv_file_name}\")\n",
    "    df_aocs = df_aocs.fillna(\"\")\n",
    "    aocs = []\n",
    "    for _, row in df_aocs.iterrows():\n",
    "        project = query_project(project_name)\n",
    "        aocs.append(\n",
    "            AoCReport(\n",
    "                project_id = project.id,\n",
    "                line = row[\"Line\"],\n",
    "                snippet = row[\"Snippet\"],\n",
    "                class_ = row[\"Class\"],\n",
    "                aoc = row[\"Atom\"],\n",
    "                path = row[\"Path\"]\n",
    "            )\n",
    "        )\n",
    "    with Session(engine) as session:\n",
    "        session.add_all(aocs)\n",
    "        session.commit()\n"
   ]
  }
 ],
 "metadata": {
  "kernelspec": {
   "display_name": ".venv",
   "language": "python",
   "name": "python3"
  },
  "language_info": {
   "codemirror_mode": {
    "name": "ipython",
    "version": 3
   },
   "file_extension": ".py",
   "mimetype": "text/x-python",
   "name": "python",
   "nbconvert_exporter": "python",
   "pygments_lexer": "ipython3",
   "version": "3.10.12"
  },
  "orig_nbformat": 4
 },
 "nbformat": 4,
 "nbformat_minor": 2
}
